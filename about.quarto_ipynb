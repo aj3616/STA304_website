{
  "cells": [
    {
      "cell_type": "markdown",
      "metadata": {},
      "source": [
        "---\n",
        "title: \"About\"\n",
        "---\n",
        "\n",
        "\n",
        "\n",
        "\n",
        "Courses Taking this term\n",
        "\n",
        "```{CSC401}\n",
        "CSC343\n",
        "CSC385\n",
        "STA304\n",
        "LIN204\n",
        "```"
      ],
      "id": "ceaf366d"
    }
  ],
  "metadata": {
    "kernelspec": {
      "display_name": "Python 3",
      "language": "python",
      "name": "python3"
    }
  },
  "nbformat": 4,
  "nbformat_minor": 5
}